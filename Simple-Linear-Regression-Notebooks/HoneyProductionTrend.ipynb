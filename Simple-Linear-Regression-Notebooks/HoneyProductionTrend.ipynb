{
  "nbformat": 4,
  "nbformat_minor": 0,
  "metadata": {
    "colab": {
      "name": "HoneyProductionTrend.ipynb",
      "provenance": [],
      "collapsed_sections": []
    },
    "kernelspec": {
      "name": "python3",
      "display_name": "Python 3"
    },
    "language_info": {
      "name": "python"
    }
  },
  "cells": [
    {
      "cell_type": "markdown",
      "source": [
        "# Honey Production Trend with Linear Regression"
      ],
      "metadata": {
        "id": "RJyDc7ClH0vn"
      }
    },
    {
      "cell_type": "markdown",
      "source": [
        "## Importing Libraries"
      ],
      "metadata": {
        "id": "8C9mVNUUIelj"
      }
    },
    {
      "cell_type": "code",
      "execution_count": 47,
      "metadata": {
        "id": "fluNys_BC_g3"
      },
      "outputs": [],
      "source": [
        "import seaborn as sns\n",
        "import pandas as pd\n",
        "import matplotlib.pyplot as plt\n",
        "import numpy as np\n",
        "import datetime\n",
        "from sklearn import linear_model"
      ]
    },
    {
      "cell_type": "markdown",
      "source": [
        "## Importing and formatting the dataset"
      ],
      "metadata": {
        "id": "H_N294DMIo_z"
      }
    },
    {
      "cell_type": "code",
      "source": [
        "# Dataset from https://www.kaggle.com/datasets/jessicali9530/honey-production"
        "PATH = \"/content/sample_data/honeyproduction.csv\"\n",
        "df = pd.read_csv(PATH)\n",
        "df.head()"
      ],
      "metadata": {
        "id": "-BSs4tQZIvM7",
        "outputId": "6111b1a4-9e06-4dff-bab3-e41e5ce6578b",
        "colab": {
          "base_uri": "https://localhost:8080/",
          "height": 206
        }
      },
      "execution_count": 5,
      "outputs": [
        {
          "output_type": "execute_result",
          "data": {
            "text/plain": [
              "  state    numcol  yieldpercol   totalprod      stocks  priceperlb  \\\n",
              "0    AL   16000.0           71   1136000.0    159000.0        0.72   \n",
              "1    AZ   55000.0           60   3300000.0   1485000.0        0.64   \n",
              "2    AR   53000.0           65   3445000.0   1688000.0        0.59   \n",
              "3    CA  450000.0           83  37350000.0  12326000.0        0.62   \n",
              "4    CO   27000.0           72   1944000.0   1594000.0        0.70   \n",
              "\n",
              "    prodvalue  year  \n",
              "0    818000.0  1998  \n",
              "1   2112000.0  1998  \n",
              "2   2033000.0  1998  \n",
              "3  23157000.0  1998  \n",
              "4   1361000.0  1998  "
            ],
            "text/html": [
              "\n",
              "  <div id=\"df-05baab7e-7a0f-453d-8e4c-3970c422ec71\">\n",
              "    <div class=\"colab-df-container\">\n",
              "      <div>\n",
              "<style scoped>\n",
              "    .dataframe tbody tr th:only-of-type {\n",
              "        vertical-align: middle;\n",
              "    }\n",
              "\n",
              "    .dataframe tbody tr th {\n",
              "        vertical-align: top;\n",
              "    }\n",
              "\n",
              "    .dataframe thead th {\n",
              "        text-align: right;\n",
              "    }\n",
              "</style>\n",
              "<table border=\"1\" class=\"dataframe\">\n",
              "  <thead>\n",
              "    <tr style=\"text-align: right;\">\n",
              "      <th></th>\n",
              "      <th>state</th>\n",
              "      <th>numcol</th>\n",
              "      <th>yieldpercol</th>\n",
              "      <th>totalprod</th>\n",
              "      <th>stocks</th>\n",
              "      <th>priceperlb</th>\n",
              "      <th>prodvalue</th>\n",
              "      <th>year</th>\n",
              "    </tr>\n",
              "  </thead>\n",
              "  <tbody>\n",
              "    <tr>\n",
              "      <th>0</th>\n",
              "      <td>AL</td>\n",
              "      <td>16000.0</td>\n",
              "      <td>71</td>\n",
              "      <td>1136000.0</td>\n",
              "      <td>159000.0</td>\n",
              "      <td>0.72</td>\n",
              "      <td>818000.0</td>\n",
              "      <td>1998</td>\n",
              "    </tr>\n",
              "    <tr>\n",
              "      <th>1</th>\n",
              "      <td>AZ</td>\n",
              "      <td>55000.0</td>\n",
              "      <td>60</td>\n",
              "      <td>3300000.0</td>\n",
              "      <td>1485000.0</td>\n",
              "      <td>0.64</td>\n",
              "      <td>2112000.0</td>\n",
              "      <td>1998</td>\n",
              "    </tr>\n",
              "    <tr>\n",
              "      <th>2</th>\n",
              "      <td>AR</td>\n",
              "      <td>53000.0</td>\n",
              "      <td>65</td>\n",
              "      <td>3445000.0</td>\n",
              "      <td>1688000.0</td>\n",
              "      <td>0.59</td>\n",
              "      <td>2033000.0</td>\n",
              "      <td>1998</td>\n",
              "    </tr>\n",
              "    <tr>\n",
              "      <th>3</th>\n",
              "      <td>CA</td>\n",
              "      <td>450000.0</td>\n",
              "      <td>83</td>\n",
              "      <td>37350000.0</td>\n",
              "      <td>12326000.0</td>\n",
              "      <td>0.62</td>\n",
              "      <td>23157000.0</td>\n",
              "      <td>1998</td>\n",
              "    </tr>\n",
              "    <tr>\n",
              "      <th>4</th>\n",
              "      <td>CO</td>\n",
              "      <td>27000.0</td>\n",
              "      <td>72</td>\n",
              "      <td>1944000.0</td>\n",
              "      <td>1594000.0</td>\n",
              "      <td>0.70</td>\n",
              "      <td>1361000.0</td>\n",
              "      <td>1998</td>\n",
              "    </tr>\n",
              "  </tbody>\n",
              "</table>\n",
              "</div>\n",
              "      <button class=\"colab-df-convert\" onclick=\"convertToInteractive('df-05baab7e-7a0f-453d-8e4c-3970c422ec71')\"\n",
              "              title=\"Convert this dataframe to an interactive table.\"\n",
              "              style=\"display:none;\">\n",
              "        \n",
              "  <svg xmlns=\"http://www.w3.org/2000/svg\" height=\"24px\"viewBox=\"0 0 24 24\"\n",
              "       width=\"24px\">\n",
              "    <path d=\"M0 0h24v24H0V0z\" fill=\"none\"/>\n",
              "    <path d=\"M18.56 5.44l.94 2.06.94-2.06 2.06-.94-2.06-.94-.94-2.06-.94 2.06-2.06.94zm-11 1L8.5 8.5l.94-2.06 2.06-.94-2.06-.94L8.5 2.5l-.94 2.06-2.06.94zm10 10l.94 2.06.94-2.06 2.06-.94-2.06-.94-.94-2.06-.94 2.06-2.06.94z\"/><path d=\"M17.41 7.96l-1.37-1.37c-.4-.4-.92-.59-1.43-.59-.52 0-1.04.2-1.43.59L10.3 9.45l-7.72 7.72c-.78.78-.78 2.05 0 2.83L4 21.41c.39.39.9.59 1.41.59.51 0 1.02-.2 1.41-.59l7.78-7.78 2.81-2.81c.8-.78.8-2.07 0-2.86zM5.41 20L4 18.59l7.72-7.72 1.47 1.35L5.41 20z\"/>\n",
              "  </svg>\n",
              "      </button>\n",
              "      \n",
              "  <style>\n",
              "    .colab-df-container {\n",
              "      display:flex;\n",
              "      flex-wrap:wrap;\n",
              "      gap: 12px;\n",
              "    }\n",
              "\n",
              "    .colab-df-convert {\n",
              "      background-color: #E8F0FE;\n",
              "      border: none;\n",
              "      border-radius: 50%;\n",
              "      cursor: pointer;\n",
              "      display: none;\n",
              "      fill: #1967D2;\n",
              "      height: 32px;\n",
              "      padding: 0 0 0 0;\n",
              "      width: 32px;\n",
              "    }\n",
              "\n",
              "    .colab-df-convert:hover {\n",
              "      background-color: #E2EBFA;\n",
              "      box-shadow: 0px 1px 2px rgba(60, 64, 67, 0.3), 0px 1px 3px 1px rgba(60, 64, 67, 0.15);\n",
              "      fill: #174EA6;\n",
              "    }\n",
              "\n",
              "    [theme=dark] .colab-df-convert {\n",
              "      background-color: #3B4455;\n",
              "      fill: #D2E3FC;\n",
              "    }\n",
              "\n",
              "    [theme=dark] .colab-df-convert:hover {\n",
              "      background-color: #434B5C;\n",
              "      box-shadow: 0px 1px 3px 1px rgba(0, 0, 0, 0.15);\n",
              "      filter: drop-shadow(0px 1px 2px rgba(0, 0, 0, 0.3));\n",
              "      fill: #FFFFFF;\n",
              "    }\n",
              "  </style>\n",
              "\n",
              "      <script>\n",
              "        const buttonEl =\n",
              "          document.querySelector('#df-05baab7e-7a0f-453d-8e4c-3970c422ec71 button.colab-df-convert');\n",
              "        buttonEl.style.display =\n",
              "          google.colab.kernel.accessAllowed ? 'block' : 'none';\n",
              "\n",
              "        async function convertToInteractive(key) {\n",
              "          const element = document.querySelector('#df-05baab7e-7a0f-453d-8e4c-3970c422ec71');\n",
              "          const dataTable =\n",
              "            await google.colab.kernel.invokeFunction('convertToInteractive',\n",
              "                                                     [key], {});\n",
              "          if (!dataTable) return;\n",
              "\n",
              "          const docLinkHtml = 'Like what you see? Visit the ' +\n",
              "            '<a target=\"_blank\" href=https://colab.research.google.com/notebooks/data_table.ipynb>data table notebook</a>'\n",
              "            + ' to learn more about interactive tables.';\n",
              "          element.innerHTML = '';\n",
              "          dataTable['output_type'] = 'display_data';\n",
              "          await google.colab.output.renderOutput(dataTable, element);\n",
              "          const docLink = document.createElement('div');\n",
              "          docLink.innerHTML = docLinkHtml;\n",
              "          element.appendChild(docLink);\n",
              "        }\n",
              "      </script>\n",
              "    </div>\n",
              "  </div>\n",
              "  "
            ]
          },
          "metadata": {},
          "execution_count": 5
        }
      ]
    },
    {
      "cell_type": "code",
      "source": [
        "prod_per_year = df.groupby(\"year\").totalprod.mean().reset_index()\n",
        "prod_per_year"
      ],
      "metadata": {
        "colab": {
          "base_uri": "https://localhost:8080/",
          "height": 520
        },
        "id": "vgVSIWc4JhH6",
        "outputId": "556832c9-a724-4712-f004-6829ffdf84ff"
      },
      "execution_count": 6,
      "outputs": [
        {
          "output_type": "execute_result",
          "data": {
            "text/plain": [
              "    year     totalprod\n",
              "0   1998  5.105093e+06\n",
              "1   1999  4.706674e+06\n",
              "2   2000  5.106000e+06\n",
              "3   2001  4.221545e+06\n",
              "4   2002  3.892386e+06\n",
              "5   2003  4.122091e+06\n",
              "6   2004  4.456805e+06\n",
              "7   2005  4.243146e+06\n",
              "8   2006  3.761902e+06\n",
              "9   2007  3.600512e+06\n",
              "10  2008  3.974927e+06\n",
              "11  2009  3.626700e+06\n",
              "12  2010  4.382350e+06\n",
              "13  2011  3.680025e+06\n",
              "14  2012  3.522675e+06"
            ],
            "text/html": [
              "\n",
              "  <div id=\"df-e89ca7f2-99b4-4e32-800f-d7c303d5a8d5\">\n",
              "    <div class=\"colab-df-container\">\n",
              "      <div>\n",
              "<style scoped>\n",
              "    .dataframe tbody tr th:only-of-type {\n",
              "        vertical-align: middle;\n",
              "    }\n",
              "\n",
              "    .dataframe tbody tr th {\n",
              "        vertical-align: top;\n",
              "    }\n",
              "\n",
              "    .dataframe thead th {\n",
              "        text-align: right;\n",
              "    }\n",
              "</style>\n",
              "<table border=\"1\" class=\"dataframe\">\n",
              "  <thead>\n",
              "    <tr style=\"text-align: right;\">\n",
              "      <th></th>\n",
              "      <th>year</th>\n",
              "      <th>totalprod</th>\n",
              "    </tr>\n",
              "  </thead>\n",
              "  <tbody>\n",
              "    <tr>\n",
              "      <th>0</th>\n",
              "      <td>1998</td>\n",
              "      <td>5.105093e+06</td>\n",
              "    </tr>\n",
              "    <tr>\n",
              "      <th>1</th>\n",
              "      <td>1999</td>\n",
              "      <td>4.706674e+06</td>\n",
              "    </tr>\n",
              "    <tr>\n",
              "      <th>2</th>\n",
              "      <td>2000</td>\n",
              "      <td>5.106000e+06</td>\n",
              "    </tr>\n",
              "    <tr>\n",
              "      <th>3</th>\n",
              "      <td>2001</td>\n",
              "      <td>4.221545e+06</td>\n",
              "    </tr>\n",
              "    <tr>\n",
              "      <th>4</th>\n",
              "      <td>2002</td>\n",
              "      <td>3.892386e+06</td>\n",
              "    </tr>\n",
              "    <tr>\n",
              "      <th>5</th>\n",
              "      <td>2003</td>\n",
              "      <td>4.122091e+06</td>\n",
              "    </tr>\n",
              "    <tr>\n",
              "      <th>6</th>\n",
              "      <td>2004</td>\n",
              "      <td>4.456805e+06</td>\n",
              "    </tr>\n",
              "    <tr>\n",
              "      <th>7</th>\n",
              "      <td>2005</td>\n",
              "      <td>4.243146e+06</td>\n",
              "    </tr>\n",
              "    <tr>\n",
              "      <th>8</th>\n",
              "      <td>2006</td>\n",
              "      <td>3.761902e+06</td>\n",
              "    </tr>\n",
              "    <tr>\n",
              "      <th>9</th>\n",
              "      <td>2007</td>\n",
              "      <td>3.600512e+06</td>\n",
              "    </tr>\n",
              "    <tr>\n",
              "      <th>10</th>\n",
              "      <td>2008</td>\n",
              "      <td>3.974927e+06</td>\n",
              "    </tr>\n",
              "    <tr>\n",
              "      <th>11</th>\n",
              "      <td>2009</td>\n",
              "      <td>3.626700e+06</td>\n",
              "    </tr>\n",
              "    <tr>\n",
              "      <th>12</th>\n",
              "      <td>2010</td>\n",
              "      <td>4.382350e+06</td>\n",
              "    </tr>\n",
              "    <tr>\n",
              "      <th>13</th>\n",
              "      <td>2011</td>\n",
              "      <td>3.680025e+06</td>\n",
              "    </tr>\n",
              "    <tr>\n",
              "      <th>14</th>\n",
              "      <td>2012</td>\n",
              "      <td>3.522675e+06</td>\n",
              "    </tr>\n",
              "  </tbody>\n",
              "</table>\n",
              "</div>\n",
              "      <button class=\"colab-df-convert\" onclick=\"convertToInteractive('df-e89ca7f2-99b4-4e32-800f-d7c303d5a8d5')\"\n",
              "              title=\"Convert this dataframe to an interactive table.\"\n",
              "              style=\"display:none;\">\n",
              "        \n",
              "  <svg xmlns=\"http://www.w3.org/2000/svg\" height=\"24px\"viewBox=\"0 0 24 24\"\n",
              "       width=\"24px\">\n",
              "    <path d=\"M0 0h24v24H0V0z\" fill=\"none\"/>\n",
              "    <path d=\"M18.56 5.44l.94 2.06.94-2.06 2.06-.94-2.06-.94-.94-2.06-.94 2.06-2.06.94zm-11 1L8.5 8.5l.94-2.06 2.06-.94-2.06-.94L8.5 2.5l-.94 2.06-2.06.94zm10 10l.94 2.06.94-2.06 2.06-.94-2.06-.94-.94-2.06-.94 2.06-2.06.94z\"/><path d=\"M17.41 7.96l-1.37-1.37c-.4-.4-.92-.59-1.43-.59-.52 0-1.04.2-1.43.59L10.3 9.45l-7.72 7.72c-.78.78-.78 2.05 0 2.83L4 21.41c.39.39.9.59 1.41.59.51 0 1.02-.2 1.41-.59l7.78-7.78 2.81-2.81c.8-.78.8-2.07 0-2.86zM5.41 20L4 18.59l7.72-7.72 1.47 1.35L5.41 20z\"/>\n",
              "  </svg>\n",
              "      </button>\n",
              "      \n",
              "  <style>\n",
              "    .colab-df-container {\n",
              "      display:flex;\n",
              "      flex-wrap:wrap;\n",
              "      gap: 12px;\n",
              "    }\n",
              "\n",
              "    .colab-df-convert {\n",
              "      background-color: #E8F0FE;\n",
              "      border: none;\n",
              "      border-radius: 50%;\n",
              "      cursor: pointer;\n",
              "      display: none;\n",
              "      fill: #1967D2;\n",
              "      height: 32px;\n",
              "      padding: 0 0 0 0;\n",
              "      width: 32px;\n",
              "    }\n",
              "\n",
              "    .colab-df-convert:hover {\n",
              "      background-color: #E2EBFA;\n",
              "      box-shadow: 0px 1px 2px rgba(60, 64, 67, 0.3), 0px 1px 3px 1px rgba(60, 64, 67, 0.15);\n",
              "      fill: #174EA6;\n",
              "    }\n",
              "\n",
              "    [theme=dark] .colab-df-convert {\n",
              "      background-color: #3B4455;\n",
              "      fill: #D2E3FC;\n",
              "    }\n",
              "\n",
              "    [theme=dark] .colab-df-convert:hover {\n",
              "      background-color: #434B5C;\n",
              "      box-shadow: 0px 1px 3px 1px rgba(0, 0, 0, 0.15);\n",
              "      filter: drop-shadow(0px 1px 2px rgba(0, 0, 0, 0.3));\n",
              "      fill: #FFFFFF;\n",
              "    }\n",
              "  </style>\n",
              "\n",
              "      <script>\n",
              "        const buttonEl =\n",
              "          document.querySelector('#df-e89ca7f2-99b4-4e32-800f-d7c303d5a8d5 button.colab-df-convert');\n",
              "        buttonEl.style.display =\n",
              "          google.colab.kernel.accessAllowed ? 'block' : 'none';\n",
              "\n",
              "        async function convertToInteractive(key) {\n",
              "          const element = document.querySelector('#df-e89ca7f2-99b4-4e32-800f-d7c303d5a8d5');\n",
              "          const dataTable =\n",
              "            await google.colab.kernel.invokeFunction('convertToInteractive',\n",
              "                                                     [key], {});\n",
              "          if (!dataTable) return;\n",
              "\n",
              "          const docLinkHtml = 'Like what you see? Visit the ' +\n",
              "            '<a target=\"_blank\" href=https://colab.research.google.com/notebooks/data_table.ipynb>data table notebook</a>'\n",
              "            + ' to learn more about interactive tables.';\n",
              "          element.innerHTML = '';\n",
              "          dataTable['output_type'] = 'display_data';\n",
              "          await google.colab.output.renderOutput(dataTable, element);\n",
              "          const docLink = document.createElement('div');\n",
              "          docLink.innerHTML = docLinkHtml;\n",
              "          element.appendChild(docLink);\n",
              "        }\n",
              "      </script>\n",
              "    </div>\n",
              "  </div>\n",
              "  "
            ]
          },
          "metadata": {},
          "execution_count": 6
        }
      ]
    },
    {
      "cell_type": "code",
      "source": [
        "X = prod_per_year.loc[:,\"year\"]\n",
        "X = X.values.reshape(-1, 1)\n",
        "X"
      ],
      "metadata": {
        "colab": {
          "base_uri": "https://localhost:8080/"
        },
        "id": "IARQKLPHJkfS",
        "outputId": "8b97f151-d181-4027-de28-aac64e67f245"
      },
      "execution_count": 7,
      "outputs": [
        {
          "output_type": "execute_result",
          "data": {
            "text/plain": [
              "array([[1998],\n",
              "       [1999],\n",
              "       [2000],\n",
              "       [2001],\n",
              "       [2002],\n",
              "       [2003],\n",
              "       [2004],\n",
              "       [2005],\n",
              "       [2006],\n",
              "       [2007],\n",
              "       [2008],\n",
              "       [2009],\n",
              "       [2010],\n",
              "       [2011],\n",
              "       [2012]])"
            ]
          },
          "metadata": {},
          "execution_count": 7
        }
      ]
    },
    {
      "cell_type": "code",
      "source": [
        "y = prod_per_year[\"totalprod\"]\n",
        "y"
      ],
      "metadata": {
        "colab": {
          "base_uri": "https://localhost:8080/"
        },
        "id": "YxjXO-4hJnOS",
        "outputId": "19cd8626-86e5-4b19-f620-11b8cb86b090"
      },
      "execution_count": 8,
      "outputs": [
        {
          "output_type": "execute_result",
          "data": {
            "text/plain": [
              "0     5.105093e+06\n",
              "1     4.706674e+06\n",
              "2     5.106000e+06\n",
              "3     4.221545e+06\n",
              "4     3.892386e+06\n",
              "5     4.122091e+06\n",
              "6     4.456805e+06\n",
              "7     4.243146e+06\n",
              "8     3.761902e+06\n",
              "9     3.600512e+06\n",
              "10    3.974927e+06\n",
              "11    3.626700e+06\n",
              "12    4.382350e+06\n",
              "13    3.680025e+06\n",
              "14    3.522675e+06\n",
              "Name: totalprod, dtype: float64"
            ]
          },
          "metadata": {},
          "execution_count": 8
        }
      ]
    },
    {
      "cell_type": "code",
      "source": [
        "plt.scatter(X, y)\n",
        "plt.show()"
      ],
      "metadata": {
        "colab": {
          "base_uri": "https://localhost:8080/",
          "height": 276
        },
        "id": "TF4QtdgCJqJR",
        "outputId": "5bfb4f1b-82be-45bd-93c1-9261153fe56e"
      },
      "execution_count": 9,
      "outputs": [
        {
          "output_type": "display_data",
          "data": {
            "text/plain": [
              "<Figure size 432x288 with 1 Axes>"
            ],
            "image/png": "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\n"
          },
          "metadata": {
            "needs_background": "light"
          }
        }
      ]
    },
    {
      "cell_type": "markdown",
      "source": [
        "## Use the Simple Linear Regression model on the dataset"
      ],
      "metadata": {
        "id": "sSk0jnvSPG1U"
      }
    },
    {
      "cell_type": "code",
      "source": [
        "from sklearn.linear_model import LinearRegression\n",
        "regr = LinearRegression()\n",
        "regr.fit(X, y)"
      ],
      "metadata": {
        "colab": {
          "base_uri": "https://localhost:8080/"
        },
        "id": "96QJllEjPH2W",
        "outputId": "a8614169-676d-4c9f-e1f5-968318630f32"
      },
      "execution_count": 10,
      "outputs": [
        {
          "output_type": "execute_result",
          "data": {
            "text/plain": [
              "LinearRegression()"
            ]
          },
          "metadata": {},
          "execution_count": 10
        }
      ]
    },
    {
      "cell_type": "markdown",
      "source": [
        "### Get slope and y-intercept for the slope-intercept form"
      ],
      "metadata": {
        "id": "exm7IjWzPOGp"
      }
    },
    {
      "cell_type": "code",
      "source": [
        "slope = regr.coef_\n",
        "print(f\"slope: {slope}\")\n",
        "y_int = regr.intercept_\n",
        "print(f\"y intercept: {y_int}\")\n",
        "print(\"\\nFORMULA\")\n",
        "print(\"y = {:.2f}x + {:.2f}\".format(slope[0], y_int))"
      ],
      "metadata": {
        "colab": {
          "base_uri": "https://localhost:8080/"
        },
        "id": "q50L0NMKPgUl",
        "outputId": "80778cf5-f1a4-402f-fd1c-4d7b2499be78"
      },
      "execution_count": 11,
      "outputs": [
        {
          "output_type": "stream",
          "name": "stdout",
          "text": [
            "slope: [-88303.18915238]\n",
            "y intercept: 181208083.10732976\n",
            "\n",
            "FORMULA\n",
            "y = -88303.19x + 181208083.11\n"
          ]
        }
      ]
    },
    {
      "cell_type": "code",
      "source": [
        "y_predict = regr.predict(X)\n",
        "y_predict"
      ],
      "metadata": {
        "colab": {
          "base_uri": "https://localhost:8080/"
        },
        "id": "ra7_1NNjPkkd",
        "outputId": "5c885afc-9597-4058-8c66-34f3dcead188"
      },
      "execution_count": 12,
      "outputs": [
        {
          "output_type": "execute_result",
          "data": {
            "text/plain": [
              "array([4778311.18087068, 4690007.99171829, 4601704.8025659 ,\n",
              "       4513401.61341354, 4425098.42426115, 4336795.23510876,\n",
              "       4248492.04595637, 4160188.85680401, 4071885.66765162,\n",
              "       3983582.47849923, 3895279.28934684, 3806976.10019448,\n",
              "       3718672.91104209, 3630369.7218897 , 3542066.53273734])"
            ]
          },
          "metadata": {},
          "execution_count": 12
        }
      ]
    },
    {
      "cell_type": "markdown",
      "source": [
        "## Visualising the LR model results on the raw dataset"
      ],
      "metadata": {
        "id": "GvFnRaNHPtCT"
      }
    },
    {
      "cell_type": "code",
      "source": [
        "plt.scatter(X, y)\n",
        "plt.plot(X, y_predict, color = \"green\")\n",
        "plt.title('Average honey production vs Year')\n",
        "plt.xlabel('Year')\n",
        "plt.ylabel('Average honey production (millions)')\n",
        "plt.show()"
      ],
      "metadata": {
        "colab": {
          "base_uri": "https://localhost:8080/",
          "height": 295
        },
        "id": "rF4En-g-PowV",
        "outputId": "bb50ff07-baf2-450f-c866-1288f8a07408"
      },
      "execution_count": 14,
      "outputs": [
        {
          "output_type": "display_data",
          "data": {
            "text/plain": [
              "<Figure size 432x288 with 1 Axes>"
            ],
            "image/png": "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\n"
          },
          "metadata": {
            "needs_background": "light"
          }
        }
      ]
    },
    {
      "cell_type": "markdown",
      "source": [
        "## Using LR model on future years (2013 - 2050)"
      ],
      "metadata": {
        "id": "hbPy663fP6sQ"
      }
    },
    {
      "cell_type": "code",
      "source": [
        "X_future = np.array(range(2013, 2051))\n",
        "print(f\"Before reshape:\\n{X_future}\")\n",
        "print(\"----------------------------------------------------------------------------\")\n",
        "X_future = X_future.reshape(-1, 1) #reshape - rotates array so 1 item per row\n",
        "print(f\"After reshape:\\n{X_future}\")"
      ],
      "metadata": {
        "colab": {
          "base_uri": "https://localhost:8080/"
        },
        "id": "kAbIYCy-PwQl",
        "outputId": "7555ab69-7200-4e3e-ba2f-79d8f0c5390b"
      },
      "execution_count": 15,
      "outputs": [
        {
          "output_type": "stream",
          "name": "stdout",
          "text": [
            "Before reshape:\n",
            "[2013 2014 2015 2016 2017 2018 2019 2020 2021 2022 2023 2024 2025 2026\n",
            " 2027 2028 2029 2030 2031 2032 2033 2034 2035 2036 2037 2038 2039 2040\n",
            " 2041 2042 2043 2044 2045 2046 2047 2048 2049 2050]\n",
            "----------------------------------------------------------------------------\n",
            "After reshape:\n",
            "[[2013]\n",
            " [2014]\n",
            " [2015]\n",
            " [2016]\n",
            " [2017]\n",
            " [2018]\n",
            " [2019]\n",
            " [2020]\n",
            " [2021]\n",
            " [2022]\n",
            " [2023]\n",
            " [2024]\n",
            " [2025]\n",
            " [2026]\n",
            " [2027]\n",
            " [2028]\n",
            " [2029]\n",
            " [2030]\n",
            " [2031]\n",
            " [2032]\n",
            " [2033]\n",
            " [2034]\n",
            " [2035]\n",
            " [2036]\n",
            " [2037]\n",
            " [2038]\n",
            " [2039]\n",
            " [2040]\n",
            " [2041]\n",
            " [2042]\n",
            " [2043]\n",
            " [2044]\n",
            " [2045]\n",
            " [2046]\n",
            " [2047]\n",
            " [2048]\n",
            " [2049]\n",
            " [2050]]\n"
          ]
        }
      ]
    },
    {
      "cell_type": "code",
      "source": [
        "future_pred = regr.predict(X_future)\n",
        "print(future_pred)"
      ],
      "metadata": {
        "colab": {
          "base_uri": "https://localhost:8080/"
        },
        "id": "cGFU4GKiQDSg",
        "outputId": "a42e418e-b9fa-42b7-e9f8-bf122e15f45d"
      },
      "execution_count": 16,
      "outputs": [
        {
          "output_type": "stream",
          "name": "stdout",
          "text": [
            "[3453763.34358495 3365460.15443256 3277156.96528018 3188853.77612782\n",
            " 3100550.58697543 3012247.39782304 2923944.20867065 2835641.01951829\n",
            " 2747337.8303659  2659034.64121351 2570731.45206112 2482428.26290876\n",
            " 2394125.07375637 2305821.88460398 2217518.69545159 2129215.50629923\n",
            " 2040912.31714684 1952609.12799445 1864305.93884209 1776002.7496897\n",
            " 1687699.56053731 1599396.37138492 1511093.18223256 1422789.99308017\n",
            " 1334486.80392778 1246183.61477539 1157880.42562303 1069577.23647064\n",
            "  981274.04731825  892970.85816586  804667.6690135   716364.47986111\n",
            "  628061.29070872  539758.10155633  451454.91240397  363151.72325158\n",
            "  274848.53409919  186545.34494683]\n"
          ]
        }
      ]
    },
    {
      "cell_type": "markdown",
      "source": [
        "## Visualising the LR model results with future years (2013 - 2050)"
      ],
      "metadata": {
        "id": "0xijeqWIQLYv"
      }
    },
    {
      "cell_type": "code",
      "source": [
        "plt.plot(X_future, future_pred, color = \"green\")\n",
        "plt.title('Average honey production vs Year')\n",
        "plt.xlabel('Year')\n",
        "plt.ylabel('Average honey production (millions)')\n",
        "plt.show()"
      ],
      "metadata": {
        "colab": {
          "base_uri": "https://localhost:8080/",
          "height": 295
        },
        "id": "iTwbLMb6QREB",
        "outputId": "3b499768-52d0-42e6-cd37-4b6ce5d8c471"
      },
      "execution_count": 17,
      "outputs": [
        {
          "output_type": "display_data",
          "data": {
            "text/plain": [
              "<Figure size 432x288 with 1 Axes>"
            ],
            "image/png": "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\n"
          },
          "metadata": {
            "needs_background": "light"
          }
        }
      ]
    },
    {
      "cell_type": "markdown",
      "source": [
        "## Helper functions for interpreting the honey production results for current and future years"
      ],
      "metadata": {
        "id": "IwSoukUeQftx"
      }
    },
    {
      "cell_type": "code",
      "source": [
        "# takes in a year and returns the predicted honey production (point-intercept formula where m and b are from LR model)\n",
        "def calcHP(year): \n",
        "    return slope * year + y_int\n",
        "\n",
        "# takes in the currentYear and futureYear, returns difference between the two\n",
        "def netHP(currPred, futPred):\n",
        "    return futPred - currPred\n",
        "\n",
        "# returns True if net difference between currYear and futureYear is negative; False if net positive\n",
        "def isNetNeg(currPred, futPred):\n",
        "    if netHP(currPred, futPred) < 0:\n",
        "        return True\n",
        "    return False\n",
        "\n",
        "# returns the percent change between production in future year and current year\n",
        "def calcPC(currPred, futPred):\n",
        "    return (netHP(currPred, futPred) / currPred) * 100"
      ],
      "metadata": {
        "id": "k0VGFvW4QoD5"
      },
      "execution_count": 106,
      "outputs": []
    },
    {
      "cell_type": "markdown",
      "source": [
        "# Final Results"
      ],
      "metadata": {
        "id": "o8ZdIcpQZpOM"
      }
    },
    {
      "cell_type": "code",
      "source": [
        "if __name__ == \"__main__\":\n",
        "    n = datetime.date.today().year\n",
        "    currentYear = n\n",
        "\n",
        "    futureYear = input(f\"Enter a year between {currentYear} and 2054: \")\n",
        "    try:\n",
        "        futureYear = int(futureYear)     \n",
        "\n",
        "    except ValueError:\n",
        "        print(\"The year can't be a string.\")\n",
        "\n",
        "    else:\n",
        "        f = True\n",
        "        while(f):\n",
        "            ppCy = calcHP(currentYear)[0]\n",
        "            ppFy = calcHP(futureYear)[0]\n",
        "            if futureYear < 0 or futureYear > 2054 or futureYear < currentYear:\n",
        "                print(\"The year you entered is out of expected range.\")\n",
        "                break\n",
        "\n",
        "            if isNetNeg(ppCy, ppFy):\n",
        "                print(\"\\n\\tIn {}, the yearly average honey production is about {:.2f} gallons.\\n\".format(currentYear, ppCy))\n",
        "                print(\"\\tIn {}, the yearly average honey production is predicted to be {:.2f} gallons.\\n\".format(futureYear, ppFy))\n",
        "                print(\"\\tThis reflects a {:.1f}% decrease from {} to {}.\".format(abs(calcPC(ppCy, ppFy)), currentYear, futureYear))\n",
        "                break\n",
        "            elif ppCy == ppFy:\n",
        "                print(\"\\n\\tIn {}, the yearly average honey production is about {:.2f} gallons.\\n\".format(currentYear, ppCy))\n",
        "                print(\"In {}, the yearly average honey production is predicted to be {:.2f} gallons.\\n\".format(futureYear, ppFy))\n",
        "                print(\"There is no change in yearly average honey production.\")\n",
        "                break\n",
        "            else:\n",
        "                print(\"\\n\\tIn {}, the yearly average honey production is about {:.2f} gallons.\\n\".format(currentYear, ppCy))\n",
        "                print(\"In {}, the yearly average honey production is predicted to be {:.2f} gallons.\\n\".format(futureYear, ppFy))\n",
        "                print(\"This reflects a {:.1f}% increase from {} to {}.\".format(abs(calcPC(ppCy, ppFy)), currentYear, futureYear))\n",
        "                break"
      ],
      "metadata": {
        "colab": {
          "base_uri": "https://localhost:8080/"
        },
        "id": "vkvV1Wt3ZuAM",
        "outputId": "abacd3b1-726b-4c13-a809-3d1dfbf0f475"
      },
      "execution_count": 124,
      "outputs": [
        {
          "output_type": "stream",
          "name": "stdout",
          "text": [
            "Enter a year between 2022 and 2054: 2040\n",
            "\n",
            "\tIn 2022, the yearly average honey production is about 2659034.64 gallons.\n",
            "\n",
            "\tIn 2040, the yearly average honey production is predicted to be 1069577.24 gallons.\n",
            "\n",
            "\tThis reflects a 59.8% decrease from 2022 to 2040.\n"
          ]
        }
      ]
    }
  ]
}
